{
 "cells": [
  {
   "cell_type": "code",
   "execution_count": 1,
   "metadata": {},
   "outputs": [],
   "source": [
    "# "
   ]
  },
  {
   "cell_type": "code",
   "execution_count": 1,
   "metadata": {},
   "outputs": [],
   "source": [
    "import pandas as pd\n",
    "import numpy as np\n",
    "import seaborn as sns\n",
    "from sklearn.model_selection import train_test_split\n",
    "from sklearn.metrics import classification_report, confusion_matrix\n",
    "from sklearn.ensemble import GradientBoostingClassifier\n",
    "from sklearn.ensemble import RandomForestClassifier"
   ]
  },
  {
   "cell_type": "code",
   "execution_count": 2,
   "metadata": {},
   "outputs": [],
   "source": [
    "data=pd.read_csv(\"bank_data_train.csv\", sep=\",\",encoding=\"latin\")"
   ]
  },
  {
   "cell_type": "code",
   "execution_count": 3,
   "metadata": {},
   "outputs": [],
   "source": [
    "data = data.drop_duplicates()"
   ]
  },
  {
   "cell_type": "code",
   "execution_count": 4,
   "metadata": {
    "scrolled": true
   },
   "outputs": [
    {
     "name": "stdout",
     "output_type": "stream",
     "text": [
      "This dataset is (88627, 72) and so, 2-dimensional\n"
     ]
    }
   ],
   "source": [
    "size = data.shape # Returns the number of rows and columns \n",
    "dims = data.ndim # Returns the number of dimensions\n",
    "print('This dataset is {} and so, {}-dimensional'.format(size, dims))"
   ]
  },
  {
   "cell_type": "code",
   "execution_count": 5,
   "metadata": {
    "scrolled": false
   },
   "outputs": [],
   "source": [
    "# data.corr()\n",
    "# Var_Corr = data.corr()\n",
    "# plot the heatmap and annotation on it\n",
    "# sns.heatmap(Var_Corr, xticklabels=Var_Corr.columns, yticklabels=Var_Corr.columns, annot=True)"
   ]
  },
  {
   "cell_type": "code",
   "execution_count": 5,
   "metadata": {
    "scrolled": true
   },
   "outputs": [
    {
     "data": {
      "text/plain": [
       "fecha_nacimiento    0.001049\n",
       "profesion           0.031514\n",
       "estado_civil        0.160380\n",
       "n_hijos             0.195200\n",
       "nivel_estudios      0.467578\n",
       "tipo_gestor         0.806662\n",
       "ctsitir             0.967098\n",
       "dtype: float64"
      ]
     },
     "execution_count": 5,
     "metadata": {},
     "output_type": "execute_result"
    }
   ],
   "source": [
    "null=data.isna().sum()/len(data)\n",
    "null[null>0].sort_values()"
   ]
  },
  {
   "cell_type": "code",
   "execution_count": 6,
   "metadata": {
    "scrolled": true
   },
   "outputs": [],
   "source": [
    "data1 = data.drop(['id_cliente','fecha_nacimiento','fecha_registro','profesion','estado_civil','n_hijos',\n",
    "                   'nivel_estudios','tipo_gestor','ctsitir','volumen_haber','saldo_total','spendpr'],1)"
   ]
  },
  {
   "cell_type": "code",
   "execution_count": 7,
   "metadata": {
    "scrolled": false
   },
   "outputs": [],
   "source": [
    "data1 = pd.get_dummies(data1, columns=['genero'], drop_first=True)"
   ]
  },
  {
   "cell_type": "code",
   "execution_count": 8,
   "metadata": {},
   "outputs": [],
   "source": [
    "y=data1['churn']\n",
    "x=data1.drop('churn',axis=1)\n",
    "x_train, x_test, y_train, y_test = train_test_split(x, y, test_size=0.3, random_state=0)"
   ]
  },
  {
   "cell_type": "code",
   "execution_count": 9,
   "metadata": {
    "scrolled": true
   },
   "outputs": [
    {
     "name": "stdout",
     "output_type": "stream",
     "text": [
      "Learning rate:  0.05\n",
      "Accuracy score (training): 0.742\n",
      "Accuracy score (validation): 0.741\n",
      "Learning rate:  0.075\n",
      "Accuracy score (training): 0.749\n",
      "Accuracy score (validation): 0.749\n",
      "Learning rate:  0.1\n",
      "Accuracy score (training): 0.753\n",
      "Accuracy score (validation): 0.753\n",
      "Learning rate:  0.25\n",
      "Accuracy score (training): 0.774\n",
      "Accuracy score (validation): 0.775\n",
      "Learning rate:  0.5\n",
      "Accuracy score (training): 0.778\n",
      "Accuracy score (validation): 0.778\n",
      "Learning rate:  0.75\n",
      "Accuracy score (training): 0.782\n",
      "Accuracy score (validation): 0.780\n",
      "Learning rate:  1\n",
      "Accuracy score (training): 0.781\n",
      "Accuracy score (validation): 0.777\n"
     ]
    }
   ],
   "source": [
    "lr_list = [0.05, 0.075, 0.1, 0.25, 0.5, 0.75, 1]\n",
    "\n",
    "for learning_rate in lr_list:\n",
    "    gb_clf = GradientBoostingClassifier(n_estimators=200, learning_rate=learning_rate, max_features=2, max_depth=2, random_state=0)\n",
    "    gb_clf.fit(x_train, y_train)\n",
    "\n",
    "    print(\"Learning rate: \", learning_rate)\n",
    "    print(\"Accuracy score (training): {0:.3f}\".format(gb_clf.score(x_train, y_train)))\n",
    "    print(\"Accuracy score (validation): {0:.3f}\".format(gb_clf.score(x_test, y_test)))"
   ]
  },
  {
   "cell_type": "code",
   "execution_count": 10,
   "metadata": {
    "scrolled": true
   },
   "outputs": [
    {
     "name": "stdout",
     "output_type": "stream",
     "text": [
      "Confusion Matrix:\n",
      "[[14313  2297]\n",
      " [ 3382  6597]]\n",
      "Classification Report\n",
      "              precision    recall  f1-score   support\n",
      "\n",
      "           0       0.81      0.86      0.83     16610\n",
      "           1       0.74      0.66      0.70      9979\n",
      "\n",
      "    accuracy                           0.79     26589\n",
      "   macro avg       0.78      0.76      0.77     26589\n",
      "weighted avg       0.78      0.79      0.78     26589\n",
      "\n"
     ]
    }
   ],
   "source": [
    "#modelo baseline1, hecho con train y test, sin Xvalidation\n",
    "gb_clf2 = GradientBoostingClassifier(n_estimators=200, learning_rate=0.75, random_state=0)\n",
    "gb_clf2.fit(x_train, y_train)\n",
    "predictions = gb_clf2.predict(x_test)\n",
    "\n",
    "print(\"Confusion Matrix:\")\n",
    "print(confusion_matrix(y_test, predictions))\n",
    "\n",
    "print(\"Classification Report\")\n",
    "print(classification_report(y_test, predictions))"
   ]
  },
  {
   "cell_type": "code",
   "execution_count": 11,
   "metadata": {},
   "outputs": [
    {
     "name": "stdout",
     "output_type": "stream",
     "text": [
      "0.8261388181437184\n",
      "0.7943886569634059\n"
     ]
    }
   ],
   "source": [
    "#modelo baseline2, hecho con train y test, sin Xvalidation\n",
    "rf = RandomForestClassifier(min_samples_leaf = 3, random_state=123)\n",
    "rf.fit(x_train, y_train)\n",
    "print(rf.score(x_train, y_train))\n",
    "print(rf.score(x_test, y_test))"
   ]
  },
  {
   "cell_type": "code",
   "execution_count": 12,
   "metadata": {
    "scrolled": false
   },
   "outputs": [
    {
     "name": "stdout",
     "output_type": "stream",
     "text": [
      "Confusion Matrix:\n",
      "[[14644  1966]\n",
      " [ 3501  6478]]\n",
      "Classification Report\n",
      "              precision    recall  f1-score   support\n",
      "\n",
      "           0       0.81      0.88      0.84     16610\n",
      "           1       0.77      0.65      0.70      9979\n",
      "\n",
      "    accuracy                           0.79     26589\n",
      "   macro avg       0.79      0.77      0.77     26589\n",
      "weighted avg       0.79      0.79      0.79     26589\n",
      "\n"
     ]
    }
   ],
   "source": [
    "predictions = rf.predict(x_test)\n",
    "\n",
    "print(\"Confusion Matrix:\")\n",
    "print(confusion_matrix(y_test, predictions))\n",
    "\n",
    "print(\"Classification Report\")\n",
    "print(classification_report(y_test, predictions))"
   ]
  },
  {
   "cell_type": "code",
   "execution_count": 13,
   "metadata": {
    "scrolled": false
   },
   "outputs": [
    {
     "name": "stdout",
     "output_type": "stream",
     "text": [
      "<class 'pandas.core.frame.DataFrame'>\n",
      "Int64Index: 88627 entries, 0 to 89995\n",
      "Data columns (total 72 columns):\n",
      " #   Column                  Non-Null Count  Dtype  \n",
      "---  ------                  --------------  -----  \n",
      " 0   id_cliente              88627 non-null  int64  \n",
      " 1   churn                   88627 non-null  int64  \n",
      " 2   fecha_nacimiento        88534 non-null  object \n",
      " 3   fecha_registro          88627 non-null  object \n",
      " 4   genero                  88627 non-null  object \n",
      " 5   profesion               85834 non-null  float64\n",
      " 6   nivel_estudios          47187 non-null  float64\n",
      " 7   estado_civil            74413 non-null  object \n",
      " 8   n_hijos                 71327 non-null  float64\n",
      " 9   pais                    88627 non-null  int64  \n",
      " 10  nacionalidad            88627 non-null  int64  \n",
      " 11  oficina_asociada        88627 non-null  int64  \n",
      " 12  tipo_gestor             17135 non-null  object \n",
      " 13  indicador_autonomo      88627 non-null  int64  \n",
      " 14  volumen_haber           88627 non-null  object \n",
      " 15  renta_estimada          88627 non-null  int64  \n",
      " 16  n_operaciones_oficina   88627 non-null  int64  \n",
      " 17  n_operaciones_web       88627 non-null  int64  \n",
      " 18  n_operaciones_app       88627 non-null  int64  \n",
      " 19  n_operaciones_telefono  88627 non-null  int64  \n",
      " 20  n_operaciones_cajero    88627 non-null  int64  \n",
      " 21  n_operaciones_tpv       88627 non-null  int64  \n",
      " 22  saldo_total             88627 non-null  object \n",
      " 23  spendpr                 88627 non-null  object \n",
      " 24  impsitir                88627 non-null  float64\n",
      " 25  ctsitir                 2916 non-null   object \n",
      " 26  nomina_domiciliada      88627 non-null  int64  \n",
      " 27  pension_domiciliada     88627 non-null  int64  \n",
      " 28  indip                   88627 non-null  int64  \n",
      " 29  indag                   88627 non-null  int64  \n",
      " 30  indss                   88627 non-null  int64  \n",
      " 31  inprod                  88627 non-null  int64  \n",
      " 32  inserv                  88627 non-null  int64  \n",
      " 33  netoapor_mes            88627 non-null  float64\n",
      " 34  margen_mes              88627 non-null  float64\n",
      " 35  prodnofi_mes            88627 non-null  float64\n",
      " 36  comcobra                88627 non-null  float64\n",
      " 37  comdevol                88627 non-null  float64\n",
      " 38  tenen_vista             88627 non-null  int64  \n",
      " 39  tenen_ahpat             88627 non-null  int64  \n",
      " 40  tenen_plazo             88627 non-null  int64  \n",
      " 41  tenen_sg_ahinv          88627 non-null  int64  \n",
      " 42  tenen_sg_ahsis          88627 non-null  int64  \n",
      " 43  tenen_fondo             88627 non-null  int64  \n",
      " 44  tenen_mfondo            88627 non-null  int64  \n",
      " 45  tenen_plpens            88627 non-null  int64  \n",
      " 46  tenen_actfin            88627 non-null  int64  \n",
      " 47  tenen_valor             88627 non-null  int64  \n",
      " 48  tenen_fvivienda         88627 non-null  int64  \n",
      " 49  tenen_fconsumo          88627 non-null  int64  \n",
      " 50  tenen_faapp             88627 non-null  int64  \n",
      " 51  tenen_leasing           88627 non-null  int64  \n",
      " 52  tenen_renting           88627 non-null  int64  \n",
      " 53  tenen_avales            88627 non-null  int64  \n",
      " 54  tenen_sg_vida           88627 non-null  int64  \n",
      " 55  tenen_sg_salud          88627 non-null  int64  \n",
      " 56  tenen_sg_accid          88627 non-null  int64  \n",
      " 57  tenen_sg_deceso         88627 non-null  int64  \n",
      " 58  tenen_sg_pers_part      88627 non-null  int64  \n",
      " 59  tenen_sg_pers_neg       88627 non-null  int64  \n",
      " 60  tenen_sg_hogar          88627 non-null  int64  \n",
      " 61  tenen_sg_auto           88627 non-null  int64  \n",
      " 62  tenen_sg_cosa_part      88627 non-null  int64  \n",
      " 63  tenen_sg_cosa_neg       88627 non-null  int64  \n",
      " 64  tenen_tj_prepago        88627 non-null  int64  \n",
      " 65  tenen_tj_debito         88627 non-null  int64  \n",
      " 66  tenen_tj_debdif         88627 non-null  int64  \n",
      " 67  tenen_tj_credito        88627 non-null  int64  \n",
      " 68  tenen_tj_empresa        88627 non-null  int64  \n",
      " 69  tenen_tj_pagopla        88627 non-null  int64  \n",
      " 70  tenen_tj_sector         88627 non-null  int64  \n",
      " 71  tenen_tj_vincul         88627 non-null  int64  \n",
      "dtypes: float64(9), int64(54), object(9)\n",
      "memory usage: 49.4+ MB\n"
     ]
    }
   ],
   "source": [
    "data.info()"
   ]
  },
  {
   "cell_type": "code",
   "execution_count": 14,
   "metadata": {},
   "outputs": [
    {
     "data": {
      "text/plain": [
       "id_cliente                    0\n",
       "churn                         0\n",
       "fecha_nacimiento             93\n",
       "fecha_registro                0\n",
       "genero                        0\n",
       "profesion                  2793\n",
       "nivel_estudios            41440\n",
       "estado_civil              14214\n",
       "n_hijos                   17300\n",
       "pais                          0\n",
       "nacionalidad                  0\n",
       "oficina_asociada              0\n",
       "tipo_gestor               71492\n",
       "indicador_autonomo            0\n",
       "volumen_haber                 0\n",
       "renta_estimada                0\n",
       "n_operaciones_oficina         0\n",
       "n_operaciones_web             0\n",
       "n_operaciones_app             0\n",
       "n_operaciones_telefono        0\n",
       "n_operaciones_cajero          0\n",
       "n_operaciones_tpv             0\n",
       "saldo_total                   0\n",
       "spendpr                       0\n",
       "impsitir                      0\n",
       "ctsitir                   85711\n",
       "nomina_domiciliada            0\n",
       "pension_domiciliada           0\n",
       "indip                         0\n",
       "indag                         0\n",
       "indss                         0\n",
       "inprod                        0\n",
       "inserv                        0\n",
       "netoapor_mes                  0\n",
       "margen_mes                    0\n",
       "prodnofi_mes                  0\n",
       "comcobra                      0\n",
       "comdevol                      0\n",
       "tenen_vista                   0\n",
       "tenen_ahpat                   0\n",
       "tenen_plazo                   0\n",
       "tenen_sg_ahinv                0\n",
       "tenen_sg_ahsis                0\n",
       "tenen_fondo                   0\n",
       "tenen_mfondo                  0\n",
       "tenen_plpens                  0\n",
       "tenen_actfin                  0\n",
       "tenen_valor                   0\n",
       "tenen_fvivienda               0\n",
       "tenen_fconsumo                0\n",
       "tenen_faapp                   0\n",
       "tenen_leasing                 0\n",
       "tenen_renting                 0\n",
       "tenen_avales                  0\n",
       "tenen_sg_vida                 0\n",
       "tenen_sg_salud                0\n",
       "tenen_sg_accid                0\n",
       "tenen_sg_deceso               0\n",
       "tenen_sg_pers_part            0\n",
       "tenen_sg_pers_neg             0\n",
       "dtype: int64"
      ]
     },
     "execution_count": 14,
     "metadata": {},
     "output_type": "execute_result"
    }
   ],
   "source": [
    "data.isnull().sum().head(60) "
   ]
  },
  {
   "cell_type": "code",
   "execution_count": 15,
   "metadata": {},
   "outputs": [],
   "source": [
    "data.drop(data[data.fecha_nacimiento.isnull()].index, inplace = True) # solo 93, quitamos las filas"
   ]
  },
  {
   "cell_type": "code",
   "execution_count": 16,
   "metadata": {},
   "outputs": [
    {
     "data": {
      "text/plain": [
       "20.0    14238\n",
       "30.0     9467\n",
       "10.0     5911\n",
       "40.0     5142\n",
       "50.0     5022\n",
       "60.0     1789\n",
       "51.0      900\n",
       "54.0      851\n",
       "61.0      700\n",
       "62.0      690\n",
       "52.0      588\n",
       "65.0      538\n",
       "64.0      389\n",
       "63.0      363\n",
       "53.0      309\n",
       "55.0      270\n",
       "70.0       18\n",
       "Name: nivel_estudios, dtype: int64"
      ]
     },
     "execution_count": 16,
     "metadata": {},
     "output_type": "execute_result"
    }
   ],
   "source": [
    "data.nivel_estudios.value_counts()"
   ]
  },
  {
   "cell_type": "code",
   "execution_count": 17,
   "metadata": {},
   "outputs": [],
   "source": [
    "data2 = data.drop(['nivel_estudios'],1) # eliminamos este variable por tener mas de 50% nulls"
   ]
  },
  {
   "cell_type": "code",
   "execution_count": 18,
   "metadata": {
    "scrolled": true
   },
   "outputs": [
    {
     "data": {
      "text/plain": [
       "81.0    16618\n",
       "72.0    14938\n",
       "73.0    12085\n",
       "82.0    11204\n",
       "83.0     6258\n",
       "86.0     4556\n",
       "33.0     3969\n",
       "91.0     3270\n",
       "53.0     3223\n",
       "11.0     1723\n",
       "74.0     1010\n",
       "71.0      873\n",
       "23.0      844\n",
       "31.0      520\n",
       "54.0      507\n",
       "52.0      497\n",
       "32.0      462\n",
       "69.0      418\n",
       "12.0      304\n",
       "42.0      302\n",
       "70.0      260\n",
       "85.0      206\n",
       "61.0      202\n",
       "65.0      184\n",
       "66.0      168\n",
       "21.0      156\n",
       "41.0      142\n",
       "22.0      141\n",
       "84.0      137\n",
       "75.0      129\n",
       "62.0      109\n",
       "76.0       87\n",
       "10.0       60\n",
       "64.0       55\n",
       "51.0       50\n",
       "63.0       46\n",
       "68.0       31\n",
       "56.0       25\n",
       "24.0       16\n",
       "55.0       13\n",
       "67.0       11\n",
       "40.0        9\n",
       "13.0        3\n",
       "80.0        3\n",
       "60.0        3\n",
       "Name: profesion, dtype: int64"
      ]
     },
     "execution_count": 18,
     "metadata": {},
     "output_type": "execute_result"
    }
   ],
   "source": [
    "data2.profesion.value_counts()"
   ]
  },
  {
   "cell_type": "code",
   "execution_count": 19,
   "metadata": {},
   "outputs": [],
   "source": [
    "data2['profesion']=data2['profesion'].fillna(81.0) # fill con moda"
   ]
  },
  {
   "cell_type": "code",
   "execution_count": 20,
   "metadata": {
    "scrolled": false
   },
   "outputs": [
    {
     "data": {
      "text/plain": [
       "C    40720\n",
       "S    24512\n",
       "V     3825\n",
       "D     1852\n",
       "F     1646\n",
       "T     1339\n",
       "P      332\n",
       "H      173\n",
       "R        1\n",
       "Name: estado_civil, dtype: int64"
      ]
     },
     "execution_count": 20,
     "metadata": {},
     "output_type": "execute_result"
    }
   ],
   "source": [
    "data2.estado_civil.value_counts()"
   ]
  },
  {
   "cell_type": "code",
   "execution_count": 21,
   "metadata": {},
   "outputs": [],
   "source": [
    "data2['estado_civil']=data2['estado_civil'].fillna('C') # fill con la moda"
   ]
  },
  {
   "cell_type": "code",
   "execution_count": 22,
   "metadata": {},
   "outputs": [],
   "source": [
    "data2['n_hijos']=data2['n_hijos'].fillna(np.mean(data2['n_hijos'])) # fill con la media"
   ]
  },
  {
   "cell_type": "code",
   "execution_count": 23,
   "metadata": {},
   "outputs": [],
   "source": [
    "data2 = data2.drop(['tipo_gestor','ctsitir'],1) # eliminamos por tener mas de 80% nulls"
   ]
  },
  {
   "cell_type": "code",
   "execution_count": 24,
   "metadata": {},
   "outputs": [],
   "source": [
    "data2 = pd.get_dummies(data2, columns=['genero','estado_civil'], drop_first=True) # turn into dummies "
   ]
  },
  {
   "cell_type": "code",
   "execution_count": 25,
   "metadata": {},
   "outputs": [],
   "source": [
    "data2 = data2.drop(['id_cliente'],1)  # eliminamos por ser atributo irrelevante"
   ]
  },
  {
   "cell_type": "code",
   "execution_count": 26,
   "metadata": {},
   "outputs": [],
   "source": [
    "data2['anyOperation'] = np.where(\n",
    "    (data2['n_operaciones_oficina']!=0) | (data2['n_operaciones_web']!=0) | (data2['n_operaciones_app']!=0) | (data2['n_operaciones_telefono']!=0) | (data2['n_operaciones_cajero']!=0) | (data2['n_operaciones_tpv']!=0), 1, 0)\n",
    "# feature engineering: creamos un nuevo atributo indicando si ha hecho el cliente alguna operacion o no "
   ]
  },
  {
   "cell_type": "code",
   "execution_count": 27,
   "metadata": {},
   "outputs": [],
   "source": [
    "data2 = data2.drop(['n_operaciones_oficina','n_operaciones_web','n_operaciones_app',\n",
    "                    'n_operaciones_telefono','n_operaciones_cajero','n_operaciones_tpv'],1)\n",
    "# reduccion de la dimension del dataset"
   ]
  },
  {
   "cell_type": "code",
   "execution_count": 28,
   "metadata": {},
   "outputs": [],
   "source": [
    "def procesar_edad(row):\n",
    "    edad=2020-int(row['fecha_nacimiento'][6:10])\n",
    "    #antiguedad=2020-int(row['fecha_registro'][6:10])\n",
    "    #volumen_haber=int(row['volumen_haber'].replace('.',''))\n",
    "    #spendpr=int(row['spendpr'].replace('.',''))\n",
    "    #saldo_total=int(row['saldo_total'].replace('.',''))\n",
    "    #return [edad,antiguedad,volumen_haber,spendpr,saldo_total]\n",
    "    return edad\n",
    "def procesar_antiguedad(row):\n",
    "    antiguedad=2020-int(row['fecha_registro'][6:10])\n",
    "    #volumen_haber=int(row['volumen_haber'].replace('.',''))\n",
    "    #spendpr=int(row['spendpr'].replace('.',''))\n",
    "    #saldo_total=int(row['saldo_total'].replace('.',''))\n",
    "    #return [edad,antiguedad,volumen_haber,spendpr,saldo_total]\n",
    "    return antiguedad\n",
    "def procesar_volumen(row):\n",
    "    volumen_haber=int(row['volumen_haber'].replace('.',''))\n",
    "    #spendpr=int(row['spendpr'].replace('.',''))\n",
    "    #saldo_total=int(row['saldo_total'].replace('.',''))\n",
    "    #return [edad,antiguedad,volumen_haber,spendpr,saldo_total]\n",
    "    return volumen_haber\n",
    "def procesar_spendpr(row):\n",
    "    spendpr=int(row['spendpr'].replace('.',''))\n",
    "    #saldo_total=int(row['saldo_total'].replace('.',''))\n",
    "    return spendpr\n",
    "def procesar_saldo(row):\n",
    "    saldo_total=int(row['saldo_total'].replace('.',''))\n",
    "    return saldo_total\n",
    "\n",
    "# feature engineering: calculamos las edades de los clientes; la antiguedad de los clientes y\n",
    "# transformamos los valores numericos de formato 'raro' al formato int"
   ]
  },
  {
   "cell_type": "code",
   "execution_count": 29,
   "metadata": {},
   "outputs": [],
   "source": [
    "data2['edad']=0\n",
    "data2['antiguedad']=0\n",
    "data2['edad']=data2.apply(lambda row: procesar_edad(row), axis=1)\n",
    "data2['antiguedad']=data2.apply(lambda row: procesar_antiguedad(row), axis=1)\n",
    "data2['volumen_haber']=data2.apply(lambda row: procesar_volumen(row), axis=1)\n",
    "data2['spendpr']=data2.apply(lambda row: procesar_spendpr(row), axis=1)\n",
    "data2['saldo_total']=data2.apply(lambda row: procesar_saldo(row), axis=1)"
   ]
  },
  {
   "cell_type": "code",
   "execution_count": 30,
   "metadata": {},
   "outputs": [],
   "source": [
    "data2 = data2.drop(['fecha_nacimiento', 'fecha_registro'],1)"
   ]
  },
  {
   "cell_type": "code",
   "execution_count": 31,
   "metadata": {
    "scrolled": true
   },
   "outputs": [
    {
     "data": {
      "text/plain": [
       "<matplotlib.axes._subplots.AxesSubplot at 0x1bcb6dc3648>"
      ]
     },
     "execution_count": 31,
     "metadata": {},
     "output_type": "execute_result"
    },
    {
     "data": {
      "image/png": "[encoded data removed]",
      "text/plain": [
       "<Figure size 432x288 with 1 Axes>"
      ]
     },
     "metadata": {
      "needs_background": "light"
     },
     "output_type": "display_data"
    }
   ],
   "source": [
    "sns.distplot(data2[\"edad\"]) # muy normal, muy bien"
   ]
  },
  {
   "cell_type": "code",
   "execution_count": 32,
   "metadata": {
    "scrolled": true
   },
   "outputs": [
    {
     "data": {
      "image/png": "[encoded data removed]",
      "text/plain": [
       "<Figure size 432x288 with 1 Axes>"
      ]
     },
     "metadata": {
      "needs_background": "light"
     },
     "output_type": "display_data"
    }
   ],
   "source": [
    "sns.distplot(np.sqrt(data2[\"antiguedad\"])) #transformamos\n",
    "data2[\"antiguedad\"]=np.sqrt(data2[\"antiguedad\"])"
   ]
  },
  {
   "cell_type": "code",
   "execution_count": 33,
   "metadata": {
    "scrolled": false
   },
   "outputs": [
    {
     "data": {
      "image/png": "[encoded data removed]",
      "text/plain": [
       "<Figure size 432x288 with 1 Axes>"
      ]
     },
     "metadata": {
      "needs_background": "light"
     },
     "output_type": "display_data"
    }
   ],
   "source": [
    "sns.distplot(np.log(data2[\"volumen_haber\"]+1)) #La mayoria concentra en un mismo rango de valor(0.8)\n",
    "# sumamos 1 porque no existe log0\n",
    "data2[\"volumen_haber\"]=np.log(data2[\"volumen_haber\"]+1)"
   ]
  },
  {
   "cell_type": "code",
   "execution_count": 34,
   "metadata": {},
   "outputs": [
    {
     "data": {
      "image/png": "[encoded data removed]",
      "text/plain": [
       "<Figure size 432x288 with 1 Axes>"
      ]
     },
     "metadata": {
      "needs_background": "light"
     },
     "output_type": "display_data"
    }
   ],
   "source": [
    "sns.distplot(np.log(data2[\"spendpr\"]+1)) #lo mismo que el anterior\n",
    "data2[\"spendpr\"]=np.log(data2[\"spendpr\"]+1)"
   ]
  },
  {
   "cell_type": "code",
   "execution_count": 35,
   "metadata": {
    "scrolled": true
   },
   "outputs": [
    {
     "data": {
      "text/plain": [
       "<matplotlib.axes._subplots.AxesSubplot at 0x1bcb6853c08>"
      ]
     },
     "execution_count": 35,
     "metadata": {},
     "output_type": "execute_result"
    },
    {
     "data": {
      "image/png": "[encoded data removed]",
      "text/plain": [
       "<Figure size 432x288 with 1 Axes>"
      ]
     },
     "metadata": {
      "needs_background": "light"
     },
     "output_type": "display_data"
    }
   ],
   "source": [
    "sns.distplot(data2[\"saldo_total\"]) #no lo podemos transformar porque hay negativo"
   ]
  },
  {
   "cell_type": "code",
   "execution_count": 100,
   "metadata": {},
   "outputs": [],
   "source": [
    "y=data2['churn']\n",
    "x=data2.drop('churn',axis=1)\n",
    "x_train, x_test, y_train, y_test = train_test_split(x, y, test_size=0.3, random_state=0)"
   ]
  },
  {
   "cell_type": "code",
   "execution_count": 101,
   "metadata": {},
   "outputs": [
    {
     "data": {
      "text/plain": [
       "(88534, 70)"
      ]
     },
     "execution_count": 101,
     "metadata": {},
     "output_type": "execute_result"
    }
   ],
   "source": [
    "data2.shape"
   ]
  },
  {
   "cell_type": "code",
   "execution_count": 38,
   "metadata": {},
   "outputs": [
    {
     "data": {
      "text/plain": [
       "GridSearchCV(cv=3, error_score=nan,\n",
       "             estimator=RandomForestClassifier(bootstrap=True, ccp_alpha=0.0,\n",
       "                                              class_weight=None,\n",
       "                                              criterion='gini', max_depth=None,\n",
       "                                              max_features='auto',\n",
       "                                              max_leaf_nodes=None,\n",
       "                                              max_samples=None,\n",
       "                                              min_impurity_decrease=0.0,\n",
       "                                              min_impurity_split=None,\n",
       "                                              min_samples_leaf=1,\n",
       "                                              min_samples_split=2,\n",
       "                                              min_weight_fraction_leaf=0.0,\n",
       "                                              n_estimators=100, n_jobs=None,\n",
       "                                              oob_score=False,\n",
       "                                              random_state=None, verbose=0,\n",
       "                                              warm_start=False),\n",
       "             iid='deprecated', n_jobs=None,\n",
       "             param_grid={'min_samples_leaf': [2, 3, 5, 7, 10],\n",
       "                         'n_estimators': [150, 200, 250, 300]},\n",
       "             pre_dispatch='2*n_jobs', refit=True, return_train_score=False,\n",
       "             scoring=None, verbose=0)"
      ]
     },
     "execution_count": 38,
     "metadata": {},
     "output_type": "execute_result"
    }
   ],
   "source": [
    "from sklearn.model_selection import GridSearchCV\n",
    "parameters_gb = {'learning_rate':[0.2, 0.3, 0.4, 0.5], 'n_estimators':[100, 150, 200, 250]}\n",
    "gb_clf=GradientBoostingClassifier()\n",
    "gb_clf_grid = GridSearchCV(gb_clf, parameters_gb, cv=3)\n",
    "gb_clf_grid.fit(x_train, y_train)\n",
    "\n",
    "parameters_rf = {'min_samples_leaf':[2, 3, 5, 7, 10], 'n_estimators':[150, 200, 250, 300]}\n",
    "rfc=RandomForestClassifier()\n",
    "rfc_grid = GridSearchCV(rfc, parameters_rf, cv=3)\n",
    "rfc_grid.fit(x_train, y_train)\n"
   ]
  },
  {
   "cell_type": "code",
   "execution_count": 102,
   "metadata": {},
   "outputs": [
    {
     "data": {
      "text/plain": [
       "GradientBoostingClassifier(ccp_alpha=0.0, criterion='friedman_mse', init=None,\n",
       "                           learning_rate=0.3, loss='deviance', max_depth=3,\n",
       "                           max_features=None, max_leaf_nodes=None,\n",
       "                           min_impurity_decrease=0.0, min_impurity_split=None,\n",
       "                           min_samples_leaf=1, min_samples_split=2,\n",
       "                           min_weight_fraction_leaf=0.0, n_estimators=100,\n",
       "                           n_iter_no_change=None, presort='deprecated',\n",
       "                           random_state=None, subsample=1.0, tol=0.0001,\n",
       "                           validation_fraction=0.1, verbose=0,\n",
       "                           warm_start=False)"
      ]
     },
     "execution_count": 102,
     "metadata": {},
     "output_type": "execute_result"
    }
   ],
   "source": [
    "gb= gb_clf_grid.best_estimator_\n",
    "gb"
   ]
  },
  {
   "cell_type": "code",
   "execution_count": 103,
   "metadata": {},
   "outputs": [],
   "source": [
    "train_gb = gb.predict(x_test)"
   ]
  },
  {
   "cell_type": "code",
   "execution_count": 106,
   "metadata": {},
   "outputs": [],
   "source": [
    "train_rf = rf.predict(x_test)"
   ]
  },
  {
   "cell_type": "code",
   "execution_count": 107,
   "metadata": {},
   "outputs": [
    {
     "data": {
      "text/plain": [
       "array([[14665,  2016],\n",
       "       [ 3397,  6483]], dtype=int64)"
      ]
     },
     "execution_count": 107,
     "metadata": {},
     "output_type": "execute_result"
    }
   ],
   "source": [
    "confusion_matrix(y_test, train_gb)\n",
    "#14665: true negative\n",
    "#6483 true positive\n",
    "#2016 false positive\n",
    "#3397 false negative"
   ]
  },
  {
   "cell_type": "code",
   "execution_count": 127,
   "metadata": {},
   "outputs": [],
   "source": [
    "from sklearn.metrics import f1_score\n",
    "from sklearn.metrics import accuracy_score\n",
    "from sklearn.metrics import precision_score"
   ]
  },
  {
   "cell_type": "code",
   "execution_count": 130,
   "metadata": {
    "scrolled": true
   },
   "outputs": [
    {
     "name": "stdout",
     "output_type": "stream",
     "text": [
      "0.7054790793840796\n",
      "0.7962049621625692\n",
      "0.7627956230144723\n"
     ]
    }
   ],
   "source": [
    "print(f1_score(y_test, train_gb))\n",
    "print(accuracy_score(y_test, train_gb))\n",
    "print(precision_score(y_test, train_gb))"
   ]
  },
  {
   "cell_type": "code",
   "execution_count": 131,
   "metadata": {
    "scrolled": true
   },
   "outputs": [
    {
     "data": {
      "text/plain": [
       "array([[14692,  1989],\n",
       "       [ 3343,  6537]], dtype=int64)"
      ]
     },
     "execution_count": 131,
     "metadata": {},
     "output_type": "execute_result"
    }
   ],
   "source": [
    "confusion_matrix(y_test, train_rf)"
   ]
  },
  {
   "cell_type": "code",
   "execution_count": 137,
   "metadata": {},
   "outputs": [
    {
     "name": "stdout",
     "output_type": "stream",
     "text": [
      "0.7103118548299467\n",
      "0.7992545461390761\n",
      "0.766713581984518\n"
     ]
    }
   ],
   "source": [
    "print(f1_score(y_test, train_rf))\n",
    "print(accuracy_score(y_test, train_rf))\n",
    "print(precision_score(y_test, train_rf))"
   ]
  },
  {
   "cell_type": "code",
   "execution_count": 139,
   "metadata": {},
   "outputs": [],
   "source": [
    "from imblearn.over_sampling import RandomOverSampler\n",
    "ros = RandomOverSampler(random_state=0)\n",
    "x_resampled, y_resampled = ros.fit_resample(x_train, y_train)"
   ]
  },
  {
   "cell_type": "code",
   "execution_count": 140,
   "metadata": {},
   "outputs": [
    {
     "data": {
      "text/plain": [
       "GradientBoostingClassifier(ccp_alpha=0.0, criterion='friedman_mse', init=None,\n",
       "                           learning_rate=0.3, loss='deviance', max_depth=3,\n",
       "                           max_features=None, max_leaf_nodes=None,\n",
       "                           min_impurity_decrease=0.0, min_impurity_split=None,\n",
       "                           min_samples_leaf=1, min_samples_split=2,\n",
       "                           min_weight_fraction_leaf=0.0, n_estimators=100,\n",
       "                           n_iter_no_change=None, presort='deprecated',\n",
       "                           random_state=None, subsample=1.0, tol=0.0001,\n",
       "                           validation_fraction=0.1, verbose=0,\n",
       "                           warm_start=False)"
      ]
     },
     "execution_count": 140,
     "metadata": {},
     "output_type": "execute_result"
    }
   ],
   "source": [
    "gb.fit(x_resampled, y_resampled)"
   ]
  },
  {
   "cell_type": "code",
   "execution_count": 141,
   "metadata": {},
   "outputs": [
    {
     "data": {
      "text/plain": [
       "array([[13894,  2787],\n",
       "       [ 2960,  6920]], dtype=int64)"
      ]
     },
     "execution_count": 141,
     "metadata": {},
     "output_type": "execute_result"
    }
   ],
   "source": [
    "train_gb = gb.predict(x_test)\n",
    "confusion_matrix(y_test, train_gb)"
   ]
  },
  {
   "cell_type": "code",
   "execution_count": 142,
   "metadata": {},
   "outputs": [
    {
     "name": "stdout",
     "output_type": "stream",
     "text": [
      "0.7065911063460458\n",
      "0.7836301344075901\n",
      "0.7128876068816318\n"
     ]
    }
   ],
   "source": [
    "print(f1_score(y_test, train_gb))\n",
    "print(accuracy_score(y_test, train_gb))\n",
    "print(precision_score(y_test, train_gb))"
   ]
  },
  {
   "cell_type": "code",
   "execution_count": 150,
   "metadata": {},
   "outputs": [],
   "source": [
    "import warnings\n",
    "warnings.filterwarnings(\"ignore\")"
   ]
  },
  {
   "cell_type": "code",
   "execution_count": 151,
   "metadata": {
    "scrolled": true
   },
   "outputs": [
    {
     "data": {
      "image/png": "[encoded data removed]",
      "text/plain": [
       "<Figure size 432x288 with 1 Axes>"
      ]
     },
     "metadata": {
      "needs_background": "light"
     },
     "output_type": "display_data"
    }
   ],
   "source": [
    "# gradient boosting\n",
    "import scikitplot as skplt\n",
    "import matplotlib.pyplot as plt\n",
    "\n",
    "prob_test = gb.predict_proba(x_test)\n",
    "skplt.metrics.plot_roc_curve(y_test, prob_test)\n",
    "plt.show()"
   ]
  },
  {
   "cell_type": "code",
   "execution_count": 152,
   "metadata": {},
   "outputs": [
    {
     "data": {
      "image/png": "[encoded data removed]",
      "text/plain": [
       "<Figure size 432x288 with 1 Axes>"
      ]
     },
     "metadata": {
      "needs_background": "light"
     },
     "output_type": "display_data"
    }
   ],
   "source": [
    "# RandomForest\n",
    "prob_test = rf.predict_proba(x_test)\n",
    "skplt.metrics.plot_roc_curve(y_test, prob_test)\n",
    "plt.show()"
   ]
  },
  {
   "cell_type": "code",
   "execution_count": 135,
   "metadata": {},
   "outputs": [
    {
     "data": {
      "text/plain": [
       "49798    0\n",
       "2052     0\n",
       "18471    0\n",
       "31580    0\n",
       "11470    0\n",
       "        ..\n",
       "45452    0\n",
       "7712     0\n",
       "27392    0\n",
       "73934    0\n",
       "81403    0\n",
       "Name: churn, Length: 16681, dtype: int64"
      ]
     },
     "execution_count": 135,
     "metadata": {},
     "output_type": "execute_result"
    }
   ],
   "source": [
    "y_test[y_test==0]"
   ]
  },
  {
   "cell_type": "code",
   "execution_count": 85,
   "metadata": {},
   "outputs": [],
   "source": [
    "datafinal=pd.read_csv(\"datafinal.csv\", sep=\",\",encoding=\"latin\")"
   ]
  },
  {
   "cell_type": "code",
   "execution_count": 87,
   "metadata": {},
   "outputs": [],
   "source": [
    "pr= gb.predict(datafinal)"
   ]
  },
  {
   "cell_type": "code",
   "execution_count": null,
   "metadata": {},
   "outputs": [],
   "source": []
  },
  {
   "cell_type": "code",
   "execution_count": 54,
   "metadata": {},
   "outputs": [
    {
     "data": {
      "text/plain": [
       "GridSearchCV(cv=3, error_score=nan,\n",
       "             estimator=RandomForestClassifier(bootstrap=True, ccp_alpha=0.0,\n",
       "                                              class_weight=None,\n",
       "                                              criterion='gini', max_depth=None,\n",
       "                                              max_features='auto',\n",
       "                                              max_leaf_nodes=None,\n",
       "                                              max_samples=None,\n",
       "                                              min_impurity_decrease=0.0,\n",
       "                                              min_impurity_split=None,\n",
       "                                              min_samples_leaf=1,\n",
       "                                              min_samples_split=2,\n",
       "                                              min_weight_fraction_leaf=0.0,\n",
       "                                              n_estimators=100, n_jobs=None,\n",
       "                                              oob_score=False,\n",
       "                                              random_state=None, verbose=0,\n",
       "                                              warm_start=False),\n",
       "             iid='deprecated', n_jobs=None,\n",
       "             param_grid={'min_samples_leaf': [2, 3, 5, 7, 10],\n",
       "                         'n_estimators': [150, 200, 250, 300]},\n",
       "             pre_dispatch='2*n_jobs', refit=True, return_train_score=False,\n",
       "             scoring=None, verbose=0)"
      ]
     },
     "execution_count": 54,
     "metadata": {},
     "output_type": "execute_result"
    }
   ],
   "source": [
    "parameters_rf = {'min_samples_leaf':[2, 3, 5, 7, 10], 'n_estimators':[150, 200, 250, 300]}\n",
    "rfc=RandomForestClassifier()\n",
    "rfc_grid = GridSearchCV(rfc, parameters_rf, cv=3)\n",
    "rfc_grid.fit(x_train, y_train) "
   ]
  },
  {
   "cell_type": "code",
   "execution_count": 104,
   "metadata": {},
   "outputs": [],
   "source": [
    "rf = rfc_grid.best_estimator_"
   ]
  },
  {
   "cell_type": "code",
   "execution_count": 105,
   "metadata": {},
   "outputs": [
    {
     "data": {
      "text/plain": [
       "RandomForestClassifier(bootstrap=True, ccp_alpha=0.0, class_weight=None,\n",
       "                       criterion='gini', max_depth=None, max_features='auto',\n",
       "                       max_leaf_nodes=None, max_samples=None,\n",
       "                       min_impurity_decrease=0.0, min_impurity_split=None,\n",
       "                       min_samples_leaf=2, min_samples_split=2,\n",
       "                       min_weight_fraction_leaf=0.0, n_estimators=250,\n",
       "                       n_jobs=None, oob_score=False, random_state=None,\n",
       "                       verbose=0, warm_start=False)"
      ]
     },
     "execution_count": 105,
     "metadata": {},
     "output_type": "execute_result"
    }
   ],
   "source": [
    "rf"
   ]
  },
  {
   "cell_type": "code",
   "execution_count": 93,
   "metadata": {
    "scrolled": true
   },
   "outputs": [
    {
     "name": "stdout",
     "output_type": "stream",
     "text": [
      "0.9217885208074484\n",
      "0.7992545461390761\n"
     ]
    }
   ],
   "source": [
    "print(rf.score(x_train, y_train))\n",
    "print(rf.score(x_test, y_test)) # poco sobreajuste, pero en el test tampoco sale muy mal"
   ]
  },
  {
   "cell_type": "code",
   "execution_count": 97,
   "metadata": {},
   "outputs": [],
   "source": [
    "prediction = rf.predict(datafinal)"
   ]
  },
  {
   "cell_type": "code",
   "execution_count": 364,
   "metadata": {},
   "outputs": [],
   "source": [
    "data3 = data2.drop(['fecha_nacimiento', 'fecha_registro', 'volumen_haber','spendpr','saldo_total'],1)"
   ]
  },
  {
   "cell_type": "code",
   "execution_count": 365,
   "metadata": {},
   "outputs": [
    {
     "name": "stdout",
     "output_type": "stream",
     "text": [
      "<class 'pandas.core.frame.DataFrame'>\n",
      "Int64Index: 88534 entries, 0 to 89995\n",
      "Data columns (total 65 columns):\n",
      " #   Column               Non-Null Count  Dtype  \n",
      "---  ------               --------------  -----  \n",
      " 0   churn                88534 non-null  int64  \n",
      " 1   profesion            88534 non-null  float64\n",
      " 2   n_hijos              88534 non-null  float64\n",
      " 3   pais                 88534 non-null  int64  \n",
      " 4   nacionalidad         88534 non-null  int64  \n",
      " 5   oficina_asociada     88534 non-null  int64  \n",
      " 6   indicador_autonomo   88534 non-null  int64  \n",
      " 7   renta_estimada       88534 non-null  int64  \n",
      " 8   impsitir             88534 non-null  float64\n",
      " 9   nomina_domiciliada   88534 non-null  int64  \n",
      " 10  pension_domiciliada  88534 non-null  int64  \n",
      " 11  indip                88534 non-null  int64  \n",
      " 12  indag                88534 non-null  int64  \n",
      " 13  indss                88534 non-null  int64  \n",
      " 14  inprod               88534 non-null  int64  \n",
      " 15  inserv               88534 non-null  int64  \n",
      " 16  netoapor_mes         88534 non-null  float64\n",
      " 17  margen_mes           88534 non-null  float64\n",
      " 18  prodnofi_mes         88534 non-null  float64\n",
      " 19  comcobra             88534 non-null  float64\n",
      " 20  comdevol             88534 non-null  float64\n",
      " 21  tenen_vista          88534 non-null  int64  \n",
      " 22  tenen_ahpat          88534 non-null  int64  \n",
      " 23  tenen_plazo          88534 non-null  int64  \n",
      " 24  tenen_sg_ahinv       88534 non-null  int64  \n",
      " 25  tenen_sg_ahsis       88534 non-null  int64  \n",
      " 26  tenen_fondo          88534 non-null  int64  \n",
      " 27  tenen_mfondo         88534 non-null  int64  \n",
      " 28  tenen_plpens         88534 non-null  int64  \n",
      " 29  tenen_actfin         88534 non-null  int64  \n",
      " 30  tenen_valor          88534 non-null  int64  \n",
      " 31  tenen_fvivienda      88534 non-null  int64  \n",
      " 32  tenen_fconsumo       88534 non-null  int64  \n",
      " 33  tenen_faapp          88534 non-null  int64  \n",
      " 34  tenen_leasing        88534 non-null  int64  \n",
      " 35  tenen_renting        88534 non-null  int64  \n",
      " 36  tenen_avales         88534 non-null  int64  \n",
      " 37  tenen_sg_vida        88534 non-null  int64  \n",
      " 38  tenen_sg_salud       88534 non-null  int64  \n",
      " 39  tenen_sg_accid       88534 non-null  int64  \n",
      " 40  tenen_sg_deceso      88534 non-null  int64  \n",
      " 41  tenen_sg_pers_part   88534 non-null  int64  \n",
      " 42  tenen_sg_pers_neg    88534 non-null  int64  \n",
      " 43  tenen_sg_hogar       88534 non-null  int64  \n",
      " 44  tenen_sg_auto        88534 non-null  int64  \n",
      " 45  tenen_sg_cosa_part   88534 non-null  int64  \n",
      " 46  tenen_sg_cosa_neg    88534 non-null  int64  \n",
      " 47  tenen_tj_prepago     88534 non-null  int64  \n",
      " 48  tenen_tj_debito      88534 non-null  int64  \n",
      " 49  tenen_tj_debdif      88534 non-null  int64  \n",
      " 50  tenen_tj_credito     88534 non-null  int64  \n",
      " 51  tenen_tj_empresa     88534 non-null  int64  \n",
      " 52  tenen_tj_pagopla     88534 non-null  int64  \n",
      " 53  tenen_tj_sector      88534 non-null  int64  \n",
      " 54  tenen_tj_vincul      88534 non-null  int64  \n",
      " 55  genero_M             88534 non-null  uint8  \n",
      " 56  estado_civil_D       88534 non-null  uint8  \n",
      " 57  estado_civil_F       88534 non-null  uint8  \n",
      " 58  estado_civil_H       88534 non-null  uint8  \n",
      " 59  estado_civil_P       88534 non-null  uint8  \n",
      " 60  estado_civil_R       88534 non-null  uint8  \n",
      " 61  estado_civil_S       88534 non-null  uint8  \n",
      " 62  estado_civil_T       88534 non-null  uint8  \n",
      " 63  estado_civil_V       88534 non-null  uint8  \n",
      " 64  anyOperation         88534 non-null  int32  \n",
      "dtypes: float64(8), int32(1), int64(47), uint8(9)\n",
      "memory usage: 38.9 MB\n"
     ]
    }
   ],
   "source": [
    "data3.info()"
   ]
  },
  {
   "cell_type": "code",
   "execution_count": 366,
   "metadata": {},
   "outputs": [],
   "source": [
    "y=data3['churn']\n",
    "x=data3.drop('churn',axis=1)\n",
    "x_train, x_test, y_train, y_test = train_test_split(x, y, test_size=0.3, random_state=0)"
   ]
  },
  {
   "cell_type": "code",
   "execution_count": 301,
   "metadata": {},
   "outputs": [
    {
     "name": "stdout",
     "output_type": "stream",
     "text": [
      "0.8092879157052265\n",
      "0.7976356311885847\n"
     ]
    }
   ],
   "source": [
    "rf = RandomForestClassifier(min_samples_leaf = 5, random_state=0)\n",
    "rf.fit(x_train, y_train)\n",
    "print(rf.score(x_train, y_train))\n",
    "print(rf.score(x_test, y_test))"
   ]
  },
  {
   "cell_type": "code",
   "execution_count": 99,
   "metadata": {},
   "outputs": [
    {
     "ename": "ValueError",
     "evalue": "Found input variables with inconsistent numbers of samples: [26561, 26589]",
     "output_type": "error",
     "traceback": [
      "\u001b[1;31m---------------------------------------------------------------------------\u001b[0m",
      "\u001b[1;31mValueError\u001b[0m                                Traceback (most recent call last)",
      "\u001b[1;32m<ipython-input-99-f37d423be3ec>\u001b[0m in \u001b[0;36m<module>\u001b[1;34m\u001b[0m\n\u001b[1;32m----> 1\u001b[1;33m \u001b[0mconfusion_matrix\u001b[0m\u001b[1;33m(\u001b[0m\u001b[0my_test\u001b[0m\u001b[1;33m,\u001b[0m \u001b[0mpredictions\u001b[0m\u001b[1;33m)\u001b[0m\u001b[1;33m\u001b[0m\u001b[1;33m\u001b[0m\u001b[0m\n\u001b[0m",
      "\u001b[1;32m~\\anaconda3\\lib\\site-packages\\sklearn\\metrics\\_classification.py\u001b[0m in \u001b[0;36mconfusion_matrix\u001b[1;34m(y_true, y_pred, labels, sample_weight, normalize)\u001b[0m\n\u001b[0;32m    266\u001b[0m \u001b[1;33m\u001b[0m\u001b[0m\n\u001b[0;32m    267\u001b[0m     \"\"\"\n\u001b[1;32m--> 268\u001b[1;33m     \u001b[0my_type\u001b[0m\u001b[1;33m,\u001b[0m \u001b[0my_true\u001b[0m\u001b[1;33m,\u001b[0m \u001b[0my_pred\u001b[0m \u001b[1;33m=\u001b[0m \u001b[0m_check_targets\u001b[0m\u001b[1;33m(\u001b[0m\u001b[0my_true\u001b[0m\u001b[1;33m,\u001b[0m \u001b[0my_pred\u001b[0m\u001b[1;33m)\u001b[0m\u001b[1;33m\u001b[0m\u001b[1;33m\u001b[0m\u001b[0m\n\u001b[0m\u001b[0;32m    269\u001b[0m     \u001b[1;32mif\u001b[0m \u001b[0my_type\u001b[0m \u001b[1;32mnot\u001b[0m \u001b[1;32min\u001b[0m \u001b[1;33m(\u001b[0m\u001b[1;34m\"binary\"\u001b[0m\u001b[1;33m,\u001b[0m \u001b[1;34m\"multiclass\"\u001b[0m\u001b[1;33m)\u001b[0m\u001b[1;33m:\u001b[0m\u001b[1;33m\u001b[0m\u001b[1;33m\u001b[0m\u001b[0m\n\u001b[0;32m    270\u001b[0m         \u001b[1;32mraise\u001b[0m \u001b[0mValueError\u001b[0m\u001b[1;33m(\u001b[0m\u001b[1;34m\"%s is not supported\"\u001b[0m \u001b[1;33m%\u001b[0m \u001b[0my_type\u001b[0m\u001b[1;33m)\u001b[0m\u001b[1;33m\u001b[0m\u001b[1;33m\u001b[0m\u001b[0m\n",
      "\u001b[1;32m~\\anaconda3\\lib\\site-packages\\sklearn\\metrics\\_classification.py\u001b[0m in \u001b[0;36m_check_targets\u001b[1;34m(y_true, y_pred)\u001b[0m\n\u001b[0;32m     78\u001b[0m     \u001b[0my_pred\u001b[0m \u001b[1;33m:\u001b[0m \u001b[0marray\u001b[0m \u001b[1;32mor\u001b[0m \u001b[0mindicator\u001b[0m \u001b[0mmatrix\u001b[0m\u001b[1;33m\u001b[0m\u001b[1;33m\u001b[0m\u001b[0m\n\u001b[0;32m     79\u001b[0m     \"\"\"\n\u001b[1;32m---> 80\u001b[1;33m     \u001b[0mcheck_consistent_length\u001b[0m\u001b[1;33m(\u001b[0m\u001b[0my_true\u001b[0m\u001b[1;33m,\u001b[0m \u001b[0my_pred\u001b[0m\u001b[1;33m)\u001b[0m\u001b[1;33m\u001b[0m\u001b[1;33m\u001b[0m\u001b[0m\n\u001b[0m\u001b[0;32m     81\u001b[0m     \u001b[0mtype_true\u001b[0m \u001b[1;33m=\u001b[0m \u001b[0mtype_of_target\u001b[0m\u001b[1;33m(\u001b[0m\u001b[0my_true\u001b[0m\u001b[1;33m)\u001b[0m\u001b[1;33m\u001b[0m\u001b[1;33m\u001b[0m\u001b[0m\n\u001b[0;32m     82\u001b[0m     \u001b[0mtype_pred\u001b[0m \u001b[1;33m=\u001b[0m \u001b[0mtype_of_target\u001b[0m\u001b[1;33m(\u001b[0m\u001b[0my_pred\u001b[0m\u001b[1;33m)\u001b[0m\u001b[1;33m\u001b[0m\u001b[1;33m\u001b[0m\u001b[0m\n",
      "\u001b[1;32m~\\anaconda3\\lib\\site-packages\\sklearn\\utils\\validation.py\u001b[0m in \u001b[0;36mcheck_consistent_length\u001b[1;34m(*arrays)\u001b[0m\n\u001b[0;32m    210\u001b[0m     \u001b[1;32mif\u001b[0m \u001b[0mlen\u001b[0m\u001b[1;33m(\u001b[0m\u001b[0muniques\u001b[0m\u001b[1;33m)\u001b[0m \u001b[1;33m>\u001b[0m \u001b[1;36m1\u001b[0m\u001b[1;33m:\u001b[0m\u001b[1;33m\u001b[0m\u001b[1;33m\u001b[0m\u001b[0m\n\u001b[0;32m    211\u001b[0m         raise ValueError(\"Found input variables with inconsistent numbers of\"\n\u001b[1;32m--> 212\u001b[1;33m                          \" samples: %r\" % [int(l) for l in lengths])\n\u001b[0m\u001b[0;32m    213\u001b[0m \u001b[1;33m\u001b[0m\u001b[0m\n\u001b[0;32m    214\u001b[0m \u001b[1;33m\u001b[0m\u001b[0m\n",
      "\u001b[1;31mValueError\u001b[0m: Found input variables with inconsistent numbers of samples: [26561, 26589]"
     ]
    }
   ],
   "source": []
  },
  {
   "cell_type": "code",
   "execution_count": 331,
   "metadata": {
    "scrolled": true
   },
   "outputs": [
    {
     "name": "stdout",
     "output_type": "stream",
     "text": [
      "Confusion Matrix:\n",
      "[[14747  1934]\n",
      " [ 3425  6455]]\n",
      "Classification Report\n",
      "              precision    recall  f1-score   support\n",
      "\n",
      "           0       0.81      0.88      0.85     16681\n",
      "           1       0.77      0.65      0.71      9880\n",
      "\n",
      "    accuracy                           0.80     26561\n",
      "   macro avg       0.79      0.77      0.78     26561\n",
      "weighted avg       0.80      0.80      0.79     26561\n",
      "\n"
     ]
    }
   ],
   "source": [
    "predictions = rf.predict(x_test)\n",
    "\n",
    "print(\"Confusion Matrix:\")\n",
    "print(confusion_matrix(y_test, predictions))\n",
    "\n",
    "print(\"Classification Report\")\n",
    "print(classification_report(y_test, predictions))"
   ]
  },
  {
   "cell_type": "code",
   "execution_count": 335,
   "metadata": {
    "scrolled": false
   },
   "outputs": [
    {
     "data": {
      "text/plain": [
       "array([2.47473096e-02, 2.89307231e-02, 1.18948181e-03, 3.14838198e-03,\n",
       "       4.24006717e-02, 1.90100778e-03, 3.96417505e-02, 9.32824411e-03,\n",
       "       1.74756719e-02, 8.16444998e-03, 0.00000000e+00, 2.20812068e-02,\n",
       "       3.56133893e-02, 4.26447644e-03, 6.29756121e-03, 4.20732167e-03,\n",
       "       1.78528908e-03, 2.91036666e-04, 9.05943992e-04, 2.67668956e-01,\n",
       "       4.11708643e-02, 4.64388916e-02, 8.07794811e-02, 5.38698961e-02,\n",
       "       5.33843539e-02, 7.83296777e-04, 3.22436837e-02, 5.15694654e-03,\n",
       "       5.71901115e-03, 1.41769264e-03, 1.01655876e-02, 5.45977678e-03,\n",
       "       4.47217474e-05, 5.25499028e-03, 1.27875159e-06, 1.93771793e-03,\n",
       "       7.77928214e-03, 2.51321361e-03, 7.40851911e-04, 8.30156714e-06,\n",
       "       0.00000000e+00, 8.60263071e-05, 2.56758043e-02, 6.85492502e-04,\n",
       "       6.12286426e-04, 1.02247285e-03, 3.03702526e-04, 0.00000000e+00,\n",
       "       2.65381983e-02, 5.45847436e-03, 8.26335240e-04, 9.06632443e-04,\n",
       "       1.44003685e-03, 1.30543503e-02, 3.02693867e-03, 6.68931874e-03,\n",
       "       1.28908853e-04, 1.13656856e-04, 3.82357229e-04, 3.34769522e-03,\n",
       "       2.23543890e-02, 6.51355995e-04, 9.16825245e-04, 2.07805590e-05,\n",
       "       4.21026501e-05, 0.00000000e+00, 8.83237314e-03, 5.62491421e-04,\n",
       "       1.40827998e-03])"
      ]
     },
     "execution_count": 335,
     "metadata": {},
     "output_type": "execute_result"
    }
   ],
   "source": [
    "rf.feature_importances_"
   ]
  },
  {
   "cell_type": "code",
   "execution_count": null,
   "metadata": {},
   "outputs": [],
   "source": []
  },
  {
   "cell_type": "code",
   "execution_count": null,
   "metadata": {},
   "outputs": [],
   "source": []
  },
  {
   "cell_type": "code",
   "execution_count": 89,
   "metadata": {},
   "outputs": [],
   "source": [
    "import requests\n",
    "import json\n",
    "\n",
    "# Dirección del servidor con los datos de test reales (NO CAMBIAR)\n",
    "URL = 'http://54.76.238.138:8050/evaluate'\n",
    "\n",
    "def get_test_score(prediction, team_name = None, url = URL):\n",
    "    \"\"\"\n",
    "    Devuelve la métrica de rendimiento predictivo evaluada sobre el conjunto de test\n",
    "    \n",
    "    Parámetros:\n",
    "    ----------\n",
    "    prediction (numpy.ndarray): predicciones obtenidas sobre el conjunto de test \n",
    "    team_name (str): nombre del equipo\n",
    "    \n",
    "    Ejemplo de uso:\n",
    "    ----------\n",
    "    get_test_score(np.array([1]*10000), 'Los lobos')\n",
    "    \"\"\"\n",
    "    assert type(prediction).__module__ == 'numpy', \"El vector tiene que ser del tipo numpy.ndarray\"\n",
    "    assert prediction.shape[0] == 10000, \"El vector tiene que tener dimension (10000,)\"\n",
    "    assert team_name is not None, \"Es obligatorio introducir el nombre del equipo\"\n",
    "    data = {'prediction': prediction.tolist(), 'team_name': team_name}\n",
    "    response = requests.post(url, json=data)\n",
    "    return response.json()['f1score']"
   ]
  },
  {
   "cell_type": "code",
   "execution_count": 98,
   "metadata": {},
   "outputs": [
    {
     "data": {
      "text/plain": [
       "0.7112959112959113"
      ]
     },
     "execution_count": 98,
     "metadata": {},
     "output_type": "execute_result"
    }
   ],
   "source": [
    "get_test_score(prediction, 'kernel analytics', url=URL)"
   ]
  },
  {
   "cell_type": "code",
   "execution_count": null,
   "metadata": {},
   "outputs": [],
   "source": []
  },
  {
   "cell_type": "code",
   "execution_count": null,
   "metadata": {},
   "outputs": [],
   "source": []
  }
 ],
 "metadata": {
  "kernelspec": {
   "display_name": "Python 3",
   "language": "python",
   "name": "python3"
  },
  "language_info": {
   "codemirror_mode": {
    "name": "ipython",
    "version": 3
   },
   "file_extension": ".py",
   "mimetype": "text/x-python",
   "name": "python",
   "nbconvert_exporter": "python",
   "pygments_lexer": "ipython3",
   "version": "3.7.6"
  }
 },
 "nbformat": 4,
 "nbformat_minor": 4
}
